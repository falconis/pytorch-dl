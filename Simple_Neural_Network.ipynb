{
  "nbformat": 4,
  "nbformat_minor": 0,
  "metadata": {
    "colab": {
      "name": "Simple Neural Network",
      "version": "0.3.2",
      "provenance": [],
      "collapsed_sections": []
    },
    "kernelspec": {
      "name": "python3",
      "display_name": "Python 3"
    },
    "accelerator": "GPU"
  },
  "cells": [
    {
      "metadata": {
        "id": "1B6RS5Ama_zS",
        "colab_type": "text"
      },
      "cell_type": "markdown",
      "source": [
        "# Setting up the Dataset"
      ]
    },
    {
      "metadata": {
        "id": "x4I4QHLfkYcu",
        "colab_type": "code",
        "colab": {}
      },
      "cell_type": "code",
      "source": [
        "from pathlib import Path\n",
        "import requests"
      ],
      "execution_count": 0,
      "outputs": []
    },
    {
      "metadata": {
        "id": "4b0WCFxnlXbk",
        "colab_type": "code",
        "colab": {}
      },
      "cell_type": "code",
      "source": [
        "DATA_PATH = Path('data')\n",
        "PATH = DATA_PATH / 'mnist'\n",
        "URL = \"http://deeplearning.net/data/mnist/\"\n",
        "FILENAME = \"mnist.pkl.gz\""
      ],
      "execution_count": 0,
      "outputs": []
    },
    {
      "metadata": {
        "id": "aEXfiNFInLFI",
        "colab_type": "code",
        "colab": {}
      },
      "cell_type": "code",
      "source": [
        "PATH.mkdir(parents=True, exist_ok=True)\n",
        "if not (PATH / FILENAME).exists():\n",
        "        content = requests.get(URL + FILENAME).content\n",
        "        (PATH / FILENAME).open(\"wb\").write(content)"
      ],
      "execution_count": 0,
      "outputs": []
    },
    {
      "metadata": {
        "id": "B0Jh-prwq0Uy",
        "colab_type": "code",
        "colab": {}
      },
      "cell_type": "code",
      "source": [
        "import pickle\n",
        "import gzip\n",
        "with gzip.open((PATH / FILENAME).as_posix(), \"rb\") as f:\n",
        "        ((x_train, y_train), (x_valid, y_valid), _) = pickle.load(f, encoding=\"latin-1\")"
      ],
      "execution_count": 0,
      "outputs": []
    },
    {
      "metadata": {
        "id": "rO2IRdd1rcW7",
        "colab_type": "code",
        "colab": {
          "base_uri": "https://localhost:8080/",
          "height": 34
        },
        "outputId": "ebdecf61-42d2-4ccb-a744-77d348bf850b"
      },
      "cell_type": "code",
      "source": [
        "n, c = x_train.shape\n",
        "print(x_train.shape)"
      ],
      "execution_count": 5,
      "outputs": [
        {
          "output_type": "stream",
          "text": [
            "(50000, 784)\n"
          ],
          "name": "stdout"
        }
      ]
    },
    {
      "metadata": {
        "id": "2rOZyMmsrnSF",
        "colab_type": "code",
        "outputId": "c7004b58-9958-44f8-d8f0-cef328bebe5d",
        "colab": {
          "base_uri": "https://localhost:8080/",
          "height": 364
        }
      },
      "cell_type": "code",
      "source": [
        "from matplotlib import pyplot\n",
        "import numpy as np\n",
        "\n",
        "pyplot.imshow(x_train[0].reshape((28,28)), cmap='gray')"
      ],
      "execution_count": 6,
      "outputs": [
        {
          "output_type": "execute_result",
          "data": {
            "text/plain": [
              "<matplotlib.image.AxesImage at 0x7fbc7e26ed30>"
            ]
          },
          "metadata": {
            "tags": []
          },
          "execution_count": 6
        },
        {
          "output_type": "display_data",
          "data": {
            "image/png": "[encoded data removed]",
            "text/plain": [
              "<Figure size 576x396 with 1 Axes>"
            ]
          },
          "metadata": {
            "tags": []
          }
        }
      ]
    },
    {
      "metadata": {
        "id": "8Bl1lIGYuEde",
        "colab_type": "code",
        "colab": {}
      },
      "cell_type": "code",
      "source": [
        "from IPython.core.debugger import set_trace\n",
        "import torch\n",
        "\n",
        "x_train, y_train, x_valid, y_valid = map(torch.tensor, (x_train, y_train, x_valid, y_valid))"
      ],
      "execution_count": 0,
      "outputs": []
    },
    {
      "metadata": {
        "id": "4TYwxLx1DKzf",
        "colab_type": "text"
      },
      "cell_type": "markdown",
      "source": [
        "# Simple Network Using Pytorch"
      ]
    },
    {
      "metadata": {
        "id": "kpXZ-4Ncvg6U",
        "colab_type": "code",
        "outputId": "998e915b-a2b6-4a5c-917e-48db228afcce",
        "colab": {
          "base_uri": "https://localhost:8080/",
          "height": 151
        }
      },
      "cell_type": "code",
      "source": [
        "import math\n",
        "weights = torch.randn(784, 10) / math.sqrt(784)\n",
        "weights.requires_grad_()\n",
        "biases = torch.zeros(10, requires_grad=True) \n",
        "print(weights)"
      ],
      "execution_count": 8,
      "outputs": [
        {
          "output_type": "stream",
          "text": [
            "tensor([[-0.0228, -0.0716, -0.0567,  ...,  0.0007, -0.0138, -0.0158],\n",
            "        [-0.0067,  0.0537, -0.0146,  ...,  0.0435, -0.0686,  0.0020],\n",
            "        [-0.0291,  0.0312,  0.0348,  ..., -0.0563, -0.0547, -0.0450],\n",
            "        ...,\n",
            "        [-0.0680,  0.0439,  0.0217,  ...,  0.0105, -0.0478,  0.0406],\n",
            "        [-0.0155, -0.0254,  0.0173,  ..., -0.0976, -0.0013, -0.0329],\n",
            "        [-0.0850, -0.0432,  0.0250,  ..., -0.0221, -0.0233, -0.0036]],\n",
            "       requires_grad=True)\n"
          ],
          "name": "stdout"
        }
      ]
    },
    {
      "metadata": {
        "id": "NSNaYSvvE920",
        "colab_type": "text"
      },
      "cell_type": "markdown",
      "source": [
        "### Utility Functions\n"
      ]
    },
    {
      "metadata": {
        "id": "cYJ43tdNDhjw",
        "colab_type": "code",
        "colab": {}
      },
      "cell_type": "code",
      "source": [
        "def log_softmax(x):\n",
        "  return x - x.exp().sum(-1).log().unsqueeze(-1)\n",
        "\n",
        "def model(x):\n",
        "  return log_softmax(x @ weights + biases)\n",
        "\n",
        "def nll(input, target):\n",
        "  return -input[range(target.shape[0]), target].mean()\n",
        "\n",
        "loss_func = nll\n",
        "\n",
        "def accuracy(output, y):\n",
        "  guesses = torch.argmax(output, dim=1)\n",
        "  return (guesses == y).float().mean()"
      ],
      "execution_count": 0,
      "outputs": []
    },
    {
      "metadata": {
        "id": "8gferhkV-OnH",
        "colab_type": "code",
        "outputId": "2b9bd503-f519-46f5-8328-0ae8c4235a24",
        "colab": {
          "base_uri": "https://localhost:8080/",
          "height": 151
        }
      },
      "cell_type": "code",
      "source": [
        "bs = 64 #batch size\n",
        "xb = x_train[:bs]\n",
        "yb = y_train[:bs]\n",
        "preds = model(xb)\n",
        "loss = loss_func(preds, yb)\n",
        "print(loss, weights.grad)\n",
        "loss.backward()\n",
        "\n",
        "print(loss, weights.grad)"
      ],
      "execution_count": 10,
      "outputs": [
        {
          "output_type": "stream",
          "text": [
            "tensor(2.3477, grad_fn=<NegBackward>) None\n",
            "tensor(2.3477, grad_fn=<NegBackward>) tensor([[0., 0., 0.,  ..., 0., 0., 0.],\n",
            "        [0., 0., 0.,  ..., 0., 0., 0.],\n",
            "        [0., 0., 0.,  ..., 0., 0., 0.],\n",
            "        ...,\n",
            "        [0., 0., 0.,  ..., 0., 0., 0.],\n",
            "        [0., 0., 0.,  ..., 0., 0., 0.],\n",
            "        [0., 0., 0.,  ..., 0., 0., 0.]])\n"
          ],
          "name": "stdout"
        }
      ]
    },
    {
      "metadata": {
        "id": "JiSrPcGdT04O",
        "colab_type": "code",
        "outputId": "1c5cce40-cb5c-46df-f866-1ec38f6c7f6c",
        "colab": {
          "base_uri": "https://localhost:8080/",
          "height": 34
        }
      },
      "cell_type": "code",
      "source": [
        "print(accuracy(preds, yb))"
      ],
      "execution_count": 11,
      "outputs": [
        {
          "output_type": "stream",
          "text": [
            "tensor(0.0938)\n"
          ],
          "name": "stdout"
        }
      ]
    },
    {
      "metadata": {
        "id": "IUh1LQr2GT4r",
        "colab_type": "text"
      },
      "cell_type": "markdown",
      "source": [
        "We can now run a training loop. For each iteration, we will:\n",
        "\n",
        "* select a mini-batch of data (of size bs)\n",
        "* use the model to make predictions\n",
        "* calculate the loss\n",
        "* loss.backward() updates the gradients of the model, in this case, weights and bias."
      ]
    },
    {
      "metadata": {
        "id": "4n4lK26oDQuW",
        "colab_type": "code",
        "colab": {}
      },
      "cell_type": "code",
      "source": [
        "from IPython.core.debugger import set_trace\n",
        "\n",
        "lr = 0.9\n",
        "epochs = 3\n",
        "for epoch in range(epochs):\n",
        "  for i in range((n-1)//(bs + 1)):\n",
        "#     set_trace()\n",
        "    start = i * bs\n",
        "    end = start + bs\n",
        "    xb = x_train[start:end]\n",
        "    yb = y_train[start:end]\n",
        "    preds = model(xb)\n",
        "    loss = loss_func(preds, yb)\n",
        "    loss.backward()\n",
        "    with torch.no_grad(): # We do this within the torch.no_grad() context manager, because we do not want these actions to be recorded for our next calculation of the gradient. \n",
        "      weights -= weights.grad * lr\n",
        "      biases -= biases.grad * lr\n",
        "      weights.grad.zero_()\n",
        "      biases.grad.zero_()\n",
        "    "
      ],
      "execution_count": 0,
      "outputs": []
    },
    {
      "metadata": {
        "id": "tlOAJsncT8aI",
        "colab_type": "code",
        "outputId": "0f0c107d-4f5b-4a1c-f890-38371eed4263",
        "colab": {
          "base_uri": "https://localhost:8080/",
          "height": 34
        }
      },
      "cell_type": "code",
      "source": [
        "print(loss_func(model(xb), yb), accuracy(model(xb), yb))"
      ],
      "execution_count": 13,
      "outputs": [
        {
          "output_type": "stream",
          "text": [
            "tensor(0.2222, grad_fn=<NegBackward>) tensor(0.9219)\n"
          ],
          "name": "stdout"
        }
      ]
    },
    {
      "metadata": {
        "id": "NxB6lnSXU2bG",
        "colab_type": "code",
        "outputId": "87c9c5dd-b350-4ba9-a09d-6018bba85028",
        "colab": {
          "base_uri": "https://localhost:8080/",
          "height": 50
        }
      },
      "cell_type": "code",
      "source": [
        "print(biases)"
      ],
      "execution_count": 14,
      "outputs": [
        {
          "output_type": "stream",
          "text": [
            "tensor([-0.8556,  0.5527,  0.3834, -0.4120,  0.0105,  2.6124, -0.3716,  1.1791,\n",
            "        -2.6264, -0.4725], requires_grad=True)\n"
          ],
          "name": "stdout"
        }
      ]
    },
    {
      "metadata": {
        "id": "ePV4u2PVX58p",
        "colab_type": "text"
      },
      "cell_type": "markdown",
      "source": [
        "# 1st Refactor using torch.nn.functional\n",
        "\n",
        "* torch.nn.functional contains all the functions of the torch.nn library, wheras the other parts have classes.\n",
        "* This part contains useful functions like the loss functions"
      ]
    },
    {
      "metadata": {
        "id": "V3tQKdn2X_tm",
        "colab_type": "code",
        "colab": {}
      },
      "cell_type": "code",
      "source": [
        "import torch.nn.functional as F\n",
        "\n",
        "loss_func = F.cross_entropy # Remember, we just refactored our log_softmax and nll using just one line. It combines softmax and nll\n",
        "\n",
        "def model(xb):\n",
        "  return (xb @ weights + biases) # We aren't also calling log_softmax in our model function, thus making our code more modular"
      ],
      "execution_count": 0,
      "outputs": []
    },
    {
      "metadata": {
        "id": "OV4rM5COYtRH",
        "colab_type": "code",
        "outputId": "6c412623-999b-48c5-b90b-38099c96bc54",
        "colab": {
          "base_uri": "https://localhost:8080/",
          "height": 34
        }
      },
      "cell_type": "code",
      "source": [
        "print(loss_func(model(xb), yb), accuracy(model(xb), yb))"
      ],
      "execution_count": 16,
      "outputs": [
        {
          "output_type": "stream",
          "text": [
            "tensor(0.2222, grad_fn=<NllLossBackward>) tensor(0.9219)\n"
          ],
          "name": "stdout"
        }
      ]
    },
    {
      "metadata": {
        "id": "aN9KBFkrag1Y",
        "colab_type": "text"
      },
      "cell_type": "markdown",
      "source": [
        "# 2nd Refactor using torch.nn.Module\n",
        "* It is used to create classes for our models\n",
        "* These classes keep track of parameters and other important stuff"
      ]
    },
    {
      "metadata": {
        "id": "ebqumVpocIN-",
        "colab_type": "code",
        "colab": {}
      },
      "cell_type": "code",
      "source": [
        "from torch import nn\n",
        "\n",
        "class My_MNIST_Solver(nn.Module):\n",
        "  def __init__(self):\n",
        "    super().__init__()\n",
        "    self.weights = nn.Parameter(torch.randn(784, 10) / math.sqrt(784))\n",
        "    self.biases = nn.Parameter(torch.zeros(10))\n",
        "    \n",
        "  def forward(self, xb):\n",
        "    return xb @ self.weights + self.biases \n",
        "    \n",
        "    "
      ],
      "execution_count": 0,
      "outputs": []
    },
    {
      "metadata": {
        "id": "ZeJUF3ntdAqX",
        "colab_type": "code",
        "colab": {}
      },
      "cell_type": "code",
      "source": [
        "model = My_MNIST_Solver()"
      ],
      "execution_count": 0,
      "outputs": []
    },
    {
      "metadata": {
        "id": "VFClL1mgd__c",
        "colab_type": "text"
      },
      "cell_type": "markdown",
      "source": [
        "Now we can use model.parameters and model.zero grad to further refactorize our training loop"
      ]
    },
    {
      "metadata": {
        "id": "R5BVH7oMeJI-",
        "colab_type": "code",
        "colab": {}
      },
      "cell_type": "code",
      "source": [
        "def fit(epochs=2, lr=0.5):\n",
        "  for epoch in range(epochs):\n",
        "    for i in range((n -1) // (bs + 1)):\n",
        "      start = i * bs\n",
        "      end = start + bs\n",
        "      xb = x_train[start:end]\n",
        "      yb = y_train[start:end]\n",
        "      preds = model(xb)\n",
        "      loss = loss_func(preds, yb)\n",
        "      loss.backward()\n",
        "      with torch.no_grad():\n",
        "        for p in model.parameters():\n",
        "          p -= p.grad * lr\n",
        "        model.zero_grad() # Reset grads to zero for all parameter of the model"
      ],
      "execution_count": 0,
      "outputs": []
    },
    {
      "metadata": {
        "id": "cADMSDgJY0YY",
        "colab_type": "code",
        "colab": {}
      },
      "cell_type": "code",
      "source": [
        "fit()"
      ],
      "execution_count": 0,
      "outputs": []
    },
    {
      "metadata": {
        "id": "fmygQf2gY1aF",
        "colab_type": "code",
        "colab": {
          "base_uri": "https://localhost:8080/",
          "height": 34
        },
        "outputId": "abc2f659-7036-47c9-8902-25445097b9b0"
      },
      "cell_type": "code",
      "source": [
        "print(loss_func(model(xb), yb), accuracy(model(xb), yb))"
      ],
      "execution_count": 21,
      "outputs": [
        {
          "output_type": "stream",
          "text": [
            "tensor(0.2798, grad_fn=<NllLossBackward>) tensor(0.9219)\n"
          ],
          "name": "stdout"
        }
      ]
    },
    {
      "metadata": {
        "id": "A1_ixjxOZon9",
        "colab_type": "text"
      },
      "cell_type": "markdown",
      "source": [
        "# 3rd Refactor using nn.Linear\n",
        "* nn.Linear is a predefined layer in pytorch. It's use is illustrated below.\n",
        "* Note: *We don't need to initialise the parameters now.*"
      ]
    },
    {
      "metadata": {
        "id": "2Q3zOUybZwLa",
        "colab_type": "code",
        "colab": {}
      },
      "cell_type": "code",
      "source": [
        "class My_MNIST_Solver(nn.Module):\n",
        "  def __init__(self):\n",
        "    super().__init__()\n",
        "    self.lin = nn.Linear(784, 10)\n",
        "  \n",
        "  def forward(self, xb):\n",
        "    return self.lin(xb)"
      ],
      "execution_count": 0,
      "outputs": []
    },
    {
      "metadata": {
        "id": "MCPDY7gra2vn",
        "colab_type": "code",
        "colab": {}
      },
      "cell_type": "code",
      "source": [
        "model = My_MNIST_Solver()"
      ],
      "execution_count": 0,
      "outputs": []
    },
    {
      "metadata": {
        "id": "dgAEg_wAbI_Y",
        "colab_type": "code",
        "colab": {
          "base_uri": "https://localhost:8080/",
          "height": 50
        },
        "outputId": "12a1bc1d-24c2-4d22-e0e1-2a79e14da939"
      },
      "cell_type": "code",
      "source": [
        "# pre-training\n",
        "print(loss_func(model(xb), yb), accuracy(model(xb), yb))\n",
        "fit(epochs=20)\n",
        "#post-training\n",
        "print(loss_func(model(xb), yb), accuracy(model(xb), yb))"
      ],
      "execution_count": 24,
      "outputs": [
        {
          "output_type": "stream",
          "text": [
            "tensor(2.2758, grad_fn=<NllLossBackward>) tensor(0.0469)\n",
            "tensor(0.2352, grad_fn=<NllLossBackward>) tensor(0.9219)\n"
          ],
          "name": "stdout"
        }
      ]
    },
    {
      "metadata": {
        "id": "U6Y9ubEse4WZ",
        "colab_type": "text"
      },
      "cell_type": "markdown",
      "source": [
        "# 4th Refactor using optim\n",
        "* optim is the optimiser that we want to use.\n",
        "* Also helps in refactoring the training loop"
      ]
    },
    {
      "metadata": {
        "id": "WpR5SULxe8fP",
        "colab_type": "code",
        "colab": {}
      },
      "cell_type": "code",
      "source": [
        "from torch import optim"
      ],
      "execution_count": 0,
      "outputs": []
    },
    {
      "metadata": {
        "id": "_U-AsadQf_NO",
        "colab_type": "code",
        "colab": {}
      },
      "cell_type": "code",
      "source": [
        "def get_model(lr=0.5):\n",
        "  model =  My_MNIST_Solver()\n",
        "  opt = optim.SGD(model.parameters(), lr=lr)\n",
        "  return model, opt"
      ],
      "execution_count": 0,
      "outputs": []
    },
    {
      "metadata": {
        "id": "-mf54kpcgeM1",
        "colab_type": "code",
        "colab": {
          "base_uri": "https://localhost:8080/",
          "height": 50
        },
        "outputId": "05aed35c-2803-43ef-e12a-b3abe26879db"
      },
      "cell_type": "code",
      "source": [
        "model, opt = get_model()\n",
        "print(loss_func(model(xb), yb), accuracy(model(xb), yb))\n",
        "for epoch in range(epochs):\n",
        "  for i in range((n-1)//(bs+1)):\n",
        "    start = i * bs\n",
        "    end = start + bs\n",
        "    xb = x_train[start:end]\n",
        "    yb = y_train[start:end]\n",
        "    preds = model(xb)\n",
        "    loss = loss_func(preds, yb)\n",
        "    loss.backward()\n",
        "    opt.step() # Note: We just refactored p -= p.grad * lr and it's for loop\n",
        "    opt.zero_grad()\n",
        "print(loss_func(model(xb), yb), accuracy(model(xb), yb))"
      ],
      "execution_count": 27,
      "outputs": [
        {
          "output_type": "stream",
          "text": [
            "tensor(2.3810, grad_fn=<NllLossBackward>) tensor(0.0625)\n",
            "tensor(0.2679, grad_fn=<NllLossBackward>) tensor(0.9219)\n"
          ],
          "name": "stdout"
        }
      ]
    },
    {
      "metadata": {
        "id": "BYAz1xlChaEB",
        "colab_type": "text"
      },
      "cell_type": "markdown",
      "source": [
        "# 5th Refactor using Dataset\n",
        "* A Dataset can be anything that has a __ len __ function (called by Python’s standard len function) and a __ getitem __ function as a way of indexing into it.\n",
        "* It allows us to easily slice along the first axis of the tensor (generally nth training example).\n",
        "* TensorDataset is a wrapper around the Dataset abstract class for tensor data."
      ]
    },
    {
      "metadata": {
        "id": "GWKBQNwGlfjA",
        "colab_type": "code",
        "colab": {}
      },
      "cell_type": "code",
      "source": [
        "from torch.utils.data import TensorDataset\n",
        "\n",
        "train_ds = TensorDataset(x_train, y_train)"
      ],
      "execution_count": 0,
      "outputs": []
    },
    {
      "metadata": {
        "id": "_7f5FKpEm3up",
        "colab_type": "code",
        "colab": {}
      },
      "cell_type": "code",
      "source": [
        "def fit(epochs=2, lr=0.5):\n",
        "  for epoch in range(epochs):\n",
        "    for i in range((n -1) // (bs + 1)):\n",
        "      xb, yb = train_ds[i*bs: i*bs + bs]\n",
        "      preds = model(xb)\n",
        "      loss = loss_func(preds, yb)\n",
        "      loss.backward()\n",
        "      with torch.no_grad():\n",
        "        for p in model.parameters():\n",
        "          p -= p.grad * lr\n",
        "        model.zero_grad() # Reset grads to zero for all parameter of the model"
      ],
      "execution_count": 0,
      "outputs": []
    },
    {
      "metadata": {
        "id": "MUU2bqoDnEv4",
        "colab_type": "code",
        "colab": {}
      },
      "cell_type": "code",
      "source": [
        ""
      ],
      "execution_count": 0,
      "outputs": []
    },
    {
      "metadata": {
        "id": "u-aHelxgwlSj",
        "colab_type": "text"
      },
      "cell_type": "markdown",
      "source": [
        "# 6th Refactor using DataLoader\n",
        "* It helps in iterating through a dataset"
      ]
    },
    {
      "metadata": {
        "id": "JL4V5P66xAbQ",
        "colab_type": "code",
        "colab": {}
      },
      "cell_type": "code",
      "source": [
        "from torch.utils.data import DataLoader\n",
        "\n",
        "train_ds = TensorDataset(x_train, y_train)\n",
        "train_dl = DataLoader(train_ds, batch_size=bs)"
      ],
      "execution_count": 0,
      "outputs": []
    },
    {
      "metadata": {
        "id": "c4aVihDFxUSA",
        "colab_type": "code",
        "colab": {
          "base_uri": "https://localhost:8080/",
          "height": 50
        },
        "outputId": "90e0fc50-8e8b-4c44-c5ab-1192c7e0d78f"
      },
      "cell_type": "code",
      "source": [
        "model, opt = get_model()\n",
        "print(loss_func(model(xb), yb))\n",
        "for epoch in range(epochs):\n",
        "  for xb, yb in train_dl:\n",
        "    pred = model(xb)\n",
        "    loss = loss_func(pred, yb)\n",
        "    loss.backward()\n",
        "    opt.step()\n",
        "    opt.zero_grad()\n",
        "print(loss_func(model(xb), yb))"
      ],
      "execution_count": 31,
      "outputs": [
        {
          "output_type": "stream",
          "text": [
            "tensor(2.2856, grad_fn=<NllLossBackward>)\n",
            "tensor(0.0714, grad_fn=<NllLossBackward>)\n"
          ],
          "name": "stdout"
        }
      ]
    },
    {
      "metadata": {
        "id": "alf4fk81yOJo",
        "colab_type": "code",
        "colab": {
          "base_uri": "https://localhost:8080/",
          "height": 34
        },
        "outputId": "ea19abed-c58d-448c-ff2d-331e642d6a36"
      },
      "cell_type": "code",
      "source": [
        "print(accuracy(model(xb), yb))"
      ],
      "execution_count": 32,
      "outputs": [
        {
          "output_type": "stream",
          "text": [
            "tensor(1.)\n"
          ],
          "name": "stdout"
        }
      ]
    },
    {
      "metadata": {
        "id": "ZKgzst1QOnoi",
        "colab_type": "text"
      },
      "cell_type": "markdown",
      "source": [
        "# Adding Validation Set\n",
        "* Validation set doesn't require to store grads. So it takes lesser memory. Hence a larger batch size can be used."
      ]
    },
    {
      "metadata": {
        "id": "wfnPAwzzO2Y-",
        "colab_type": "code",
        "colab": {}
      },
      "cell_type": "code",
      "source": [
        "train_ds = TensorDataset(x_train, y_train)\n",
        "train_dl = DataLoader(train_ds, batch_size=bs, shuffle=True)\n",
        "\n",
        "valid_ds = TensorDataset(x_valid, y_valid)\n",
        "valid_dl = DataLoader(valid_ds, batch_size=2*bs)"
      ],
      "execution_count": 0,
      "outputs": []
    },
    {
      "metadata": {
        "id": "TsqsdWIEP9HH",
        "colab_type": "code",
        "colab": {
          "base_uri": "https://localhost:8080/",
          "height": 67
        },
        "outputId": "ee80d91b-8713-45aa-ae92-c2c8af906df7"
      },
      "cell_type": "code",
      "source": [
        "model, opt = get_model()\n",
        "\n",
        "for epoch in range(epochs):\n",
        "  for xb, yb in train_dl:\n",
        "    model.train() # Always written before training used by layers like BatchNorm and Dropout\n",
        "    preds = model(xb)\n",
        "    loss = loss_func(preds, yb)\n",
        "    loss.backward()\n",
        "    opt.step()\n",
        "    opt.zero_grad()\n",
        "    \n",
        "    model.eval() # Always written before evaluating used by layers like BatchNorm and Dropout\n",
        "    with torch.no_grad():\n",
        "      valid_loss = sum(loss_func(model(xb), yb) for xb, yb in valid_dl)\n",
        "  print(epoch, valid_loss)"
      ],
      "execution_count": 34,
      "outputs": [
        {
          "output_type": "stream",
          "text": [
            "0 tensor(23.9505)\n",
            "1 tensor(25.9968)\n",
            "2 tensor(29.1557)\n"
          ],
          "name": "stdout"
        }
      ]
    },
    {
      "metadata": {
        "id": "U5u5vRcQSIet",
        "colab_type": "text"
      },
      "cell_type": "markdown",
      "source": [
        "# Extreme Refactoring\n",
        "\n",
        "\n",
        "*   We will now write functions for calculating loss for a single batch.\n",
        "*   And like get_model() we will create another function called get_data() to get all the Dataloaders\n",
        "\n"
      ]
    },
    {
      "metadata": {
        "id": "vBjjve1rSMXG",
        "colab_type": "code",
        "colab": {}
      },
      "cell_type": "code",
      "source": [
        "def get_data(train_ds, valid_ds, bs):\n",
        "  return (\n",
        "    DataLoader(train_ds, batch_size=bs, shuffle=True),\n",
        "    DataLoader(valid_ds, batch_size=bs)\n",
        "  )"
      ],
      "execution_count": 0,
      "outputs": []
    },
    {
      "metadata": {
        "id": "1BqWKK_vTGa0",
        "colab_type": "code",
        "colab": {}
      },
      "cell_type": "code",
      "source": [
        "def loss_batch(model, loss_func, xb, yb, opt=None):\n",
        "  preds = model(xb)\n",
        "  loss = loss_func(preds, yb)\n",
        "  \n",
        "  if opt is not None:\n",
        "    loss.backward()\n",
        "    opt.step()\n",
        "    opt.zero_grad()\n",
        "  \n",
        "  return loss.item(), len(xb)\n",
        "    \n",
        "  "
      ],
      "execution_count": 0,
      "outputs": []
    },
    {
      "metadata": {
        "id": "UGjJWNjmU3sU",
        "colab_type": "code",
        "colab": {}
      },
      "cell_type": "code",
      "source": [
        "import numpy as np\n",
        "\n",
        "def fit(epochs, model, loss_func, opt, train_dl, valid_dl):\n",
        "    for epoch in range(epochs):\n",
        "        model.train()\n",
        "        for xb, yb in train_dl:\n",
        "            loss_batch(model, loss_func, xb, yb, opt)\n",
        "\n",
        "        model.eval()\n",
        "        with torch.no_grad():\n",
        "            losses, nums = zip(\n",
        "                *[loss_batch(model, loss_func, xb, yb) for xb, yb in valid_dl]\n",
        "            )\n",
        "        val_loss = np.sum(np.multiply(losses, nums)) / np.sum(nums)\n",
        "\n",
        "        print(epoch, val_loss)"
      ],
      "execution_count": 0,
      "outputs": []
    },
    {
      "metadata": {
        "id": "7hRRzEBBVNvh",
        "colab_type": "text"
      },
      "cell_type": "markdown",
      "source": [
        "## The following 3 lines can be used to train a wide variety of models."
      ]
    },
    {
      "metadata": {
        "id": "xRJYvtwcUvwM",
        "colab_type": "code",
        "colab": {
          "base_uri": "https://localhost:8080/",
          "height": 67
        },
        "outputId": "65998503-cbb8-4e3b-ff47-e9bd8b92761f"
      },
      "cell_type": "code",
      "source": [
        "train_dl, valid_dl = get_data(train_ds, valid_ds, bs)\n",
        "model, opt = get_model()\n",
        "fit(epochs, model, loss_func, opt, train_dl, valid_dl)"
      ],
      "execution_count": 44,
      "outputs": [
        {
          "output_type": "stream",
          "text": [
            "0 0.3719518579483032\n",
            "1 0.30234507451057435\n",
            "2 0.3276525299549103\n"
          ],
          "name": "stdout"
        }
      ]
    },
    {
      "metadata": {
        "id": "229oCL_0Z4Xc",
        "colab_type": "text"
      },
      "cell_type": "markdown",
      "source": [
        "#### CNN Implementation"
      ]
    },
    {
      "metadata": {
        "id": "_EGFj_PTZ62O",
        "colab_type": "code",
        "colab": {}
      },
      "cell_type": "code",
      "source": [
        "class My_MNIST_CNN(nn.Module):\n",
        "  def __init__(self):\n",
        "    super().__init__()\n",
        "    self.conv1 = F.conv2d()"
      ],
      "execution_count": 0,
      "outputs": []
    }
  ]
}